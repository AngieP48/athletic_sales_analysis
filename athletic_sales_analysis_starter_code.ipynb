{
 "cells": [
  {
   "cell_type": "code",
   "execution_count": 7,
   "metadata": {},
   "outputs": [],
   "source": [
    "# Import Libraries and Dependencies\n",
    "import pandas as pd"
   ]
  },
  {
   "cell_type": "markdown",
   "metadata": {},
   "source": [
    "### 1. Combine and Clean the Data\n",
    "#### Import CSVs"
   ]
  },
  {
   "cell_type": "code",
   "execution_count": 8,
   "metadata": {},
   "outputs": [
    {
     "ename": "NameError",
     "evalue": "name 'Path' is not defined",
     "output_type": "error",
     "traceback": [
      "\u001b[1;31m---------------------------------------------------------------------------\u001b[0m",
      "\u001b[1;31mNameError\u001b[0m                                 Traceback (most recent call last)",
      "Cell \u001b[1;32mIn[8], line 2\u001b[0m\n\u001b[0;32m      1\u001b[0m \u001b[38;5;66;03m# Read the CSV files into DataFrames.\u001b[39;00m\n\u001b[1;32m----> 2\u001b[0m athletic_sales_2020_path \u001b[38;5;241m=\u001b[39m Path(\u001b[38;5;124m'\u001b[39m\u001b[38;5;124mResources/athletic_sales_2020.csv\u001b[39m\u001b[38;5;124m'\u001b[39m)\n\u001b[0;32m      3\u001b[0m athletic_sales_2021_path \u001b[38;5;241m=\u001b[39m Path(\u001b[38;5;124m'\u001b[39m\u001b[38;5;124mResources/atheltic_sales_2021.csv\u001b[39m\u001b[38;5;124m'\u001b[39m)\n\u001b[0;32m      5\u001b[0m athletic_sales_2020_data \u001b[38;5;241m=\u001b[39m pd\u001b[38;5;241m.\u001b[39mread_csv(athletic_sales_2020_path)\n",
      "\u001b[1;31mNameError\u001b[0m: name 'Path' is not defined"
     ]
    }
   ],
   "source": [
    "# Read the CSV files into DataFrames.\n",
    "athletic_sales_2020_path = Path('Resources/athletic_sales_2020.csv')\n",
    "athletic_sales_2021_path = Path('Resources/atheltic_sales_2021.csv')\n",
    "\n",
    "athletic_sales_2020_data = pd.read_csv(athletic_sales_2020_path)\n",
    "athletic_sales_2021_data = pd.read_csv(athletic_sales_2021_path)"
   ]
  },
  {
   "cell_type": "code",
   "execution_count": 9,
   "metadata": {},
   "outputs": [
    {
     "ename": "NameError",
     "evalue": "name 'athletic_sales_2020_data' is not defined",
     "output_type": "error",
     "traceback": [
      "\u001b[1;31m---------------------------------------------------------------------------\u001b[0m",
      "\u001b[1;31mNameError\u001b[0m                                 Traceback (most recent call last)",
      "Cell \u001b[1;32mIn[9], line 2\u001b[0m\n\u001b[0;32m      1\u001b[0m \u001b[38;5;66;03m# Display the 2020 sales DataFrame\u001b[39;00m\n\u001b[1;32m----> 2\u001b[0m athletic_sales_2020_data\u001b[38;5;241m.\u001b[39mhead()\n",
      "\u001b[1;31mNameError\u001b[0m: name 'athletic_sales_2020_data' is not defined"
     ]
    }
   ],
   "source": [
    "# Display the 2020 sales DataFrame\n",
    "athletic_sales_2020_data.head()"
   ]
  },
  {
   "cell_type": "code",
   "execution_count": null,
   "metadata": {},
   "outputs": [],
   "source": [
    "# Display the 2021 sales DataFrame\n",
    "athletic_sales_2021_data.head()"
   ]
  },
  {
   "cell_type": "markdown",
   "metadata": {},
   "source": [
    "#### Check the data types of each DataFrame"
   ]
  },
  {
   "cell_type": "code",
   "execution_count": null,
   "metadata": {},
   "outputs": [],
   "source": [
    "# Check the 2020 sales data types.\n",
    "athletic_sales_2020_data.dtypes"
   ]
  },
  {
   "cell_type": "code",
   "execution_count": null,
   "metadata": {},
   "outputs": [],
   "source": [
    "# Check the 2021 sales data types.\n",
    "athletic_sales_2021_data.dtypes"
   ]
  },
  {
   "cell_type": "markdown",
   "metadata": {},
   "source": [
    "#### Combine the sales data by rows."
   ]
  },
  {
   "cell_type": "code",
   "execution_count": null,
   "metadata": {},
   "outputs": [],
   "source": [
    "# Combine the 2020 and 2021 sales DataFrames on the rows and reset the index.\n",
    "combined_sales_2020_2021 = pd.concat([athletic_sales_2020_data, athletic_sales_2021_data], axis=\"rows\", join=\"inner\")\n",
    "\n",
    "combined_sales_2020_2021.head()"
   ]
  },
  {
   "cell_type": "code",
   "execution_count": null,
   "metadata": {},
   "outputs": [],
   "source": [
    "# Check if any values are null.\n",
    "combined_sales_2020_2021.count()"
   ]
  },
  {
   "cell_type": "code",
   "execution_count": null,
   "metadata": {},
   "outputs": [],
   "source": [
    "# Check the data type of each column\n",
    "combined_sales_2020_2021.dtypes"
   ]
  },
  {
   "cell_type": "code",
   "execution_count": null,
   "metadata": {},
   "outputs": [],
   "source": [
    "# Convert the \"invoice_date\" to a datetime datatype\n",
    "converted_combined_sales_data = combined_sales_2020_2021.copy()\n",
    "converted_combined_sales_data['invoice_date']= pd.to_datetime(converted_combined_sales_data['invoice_date'], errors='coerce')"
   ]
  },
  {
   "cell_type": "code",
   "execution_count": null,
   "metadata": {},
   "outputs": [],
   "source": [
    "# Confirm that the \"invoice_date\" data type has been changed.\n",
    "converted_combined_sales_data.dtypes"
   ]
  },
  {
   "cell_type": "markdown",
   "metadata": {},
   "source": [
    "### 2. Determine which Region Sold the Most Products"
   ]
  },
  {
   "cell_type": "markdown",
   "metadata": {},
   "source": [
    "#### Using `groupby`"
   ]
  },
  {
   "cell_type": "code",
   "execution_count": null,
   "metadata": {},
   "outputs": [],
   "source": [
    "# Show the number products sold for region, state, and city.\n",
    "# Rename the sum to \"Total_Products_Sold\".\n",
    "region_most_products_groupby = converted_combined_sales_data.groupby(['region', 'state', 'city'])[[\"units_sold\"]].sum()\n",
    "region_most_products_groupby = region_most_products_groupby.rename(columns={\"units_sold\": \"Total_Products_Sold\"})\n",
    "\n",
    "\n",
    "\n",
    "# Show the top 5 results.\n",
    "region_most_products_groupby.sort_values(by=[\"Total_Products_Sold\"], ascending=False).head(5)                           "
   ]
  },
  {
   "cell_type": "markdown",
   "metadata": {},
   "source": [
    "#### Using `pivot_table`"
   ]
  },
  {
   "cell_type": "code",
   "execution_count": null,
   "metadata": {},
   "outputs": [],
   "source": [
    "# Show the number products sold for region, state, and city.\n",
    "region_most_products_pivot = pd.pivot_table(converted_combined_sales_data, \n",
    "                                   index=['region','state','city'],\n",
    "                                   values='units_sold',\n",
    "                                   aggfunc='sum',\n",
    "                                   sort=False).rename(columns={\"units_sold\": \"Total_Products_Sold\"})\n",
    "\n",
    "# Rename the \"units_sold\" column to \"Total_Products_Sold\"\n",
    "\n",
    "\n",
    "# Show the top 5 results.\n",
    "region_most_products_pivot.sort_values(by=[\"Total_Products_Sold\"], ascending=False).head(5)"
   ]
  },
  {
   "cell_type": "markdown",
   "metadata": {},
   "source": [
    "### 3. Determine which Region had the Most Sales"
   ]
  },
  {
   "cell_type": "markdown",
   "metadata": {},
   "source": [
    "#### Using `groupby`"
   ]
  },
  {
   "cell_type": "code",
   "execution_count": null,
   "metadata": {},
   "outputs": [],
   "source": [
    "# Show the total sales for the products sold for each region, state, and city.\n",
    "# Rename the \"total_sales\" column to \"Total Sales\"\n",
    "region_most_sales_groupby = converted_combined_sales_data.groupby(['region', 'state', 'city'])[[\"total_sales\"]].sum()\n",
    "region_most_sales_groupby = region_most_sales_groupby.rename(columns={\"total_sales\": \"Total_Sales\"})\n",
    "\n",
    "# Show the top 5 results.\n",
    "region_most_sales_groupby.sort_values(by=[\"Total_Sales\"], ascending=False).head(5)"
   ]
  },
  {
   "cell_type": "markdown",
   "metadata": {},
   "source": [
    "#### Using `pivot_table`"
   ]
  },
  {
   "cell_type": "code",
   "execution_count": null,
   "metadata": {},
   "outputs": [],
   "source": [
    "# Show the total sales for the products sold for each region, state, and city.\n",
    "region_most_sales_pivot = pd.pivot_table(converted_combined_sales_data, \n",
    "                                   index=['region','state','city'],\n",
    "                                   values='total_sales',\n",
    "                                   aggfunc='sum',\n",
    "                                   sort=False).rename(columns={\"total_sales\": \"Total_Sales\"})\n",
    "\n",
    "\n",
    "# Optional: Rename the \"total_sales\" column to \"Total Sales\"\n",
    "\n",
    "\n",
    "# Show the top 5 results.\n",
    "region_most_sales_pivot.sort_values(by=[\"Total_Sales\"], ascending=False).head(5)"
   ]
  },
  {
   "cell_type": "markdown",
   "metadata": {
    "jp-MarkdownHeadingCollapsed": true,
    "tags": []
   },
   "source": [
    "### 4. Determine which Retailer had the Most Sales"
   ]
  },
  {
   "cell_type": "markdown",
   "metadata": {},
   "source": [
    "#### Using `groupby`"
   ]
  },
  {
   "cell_type": "code",
   "execution_count": null,
   "metadata": {},
   "outputs": [],
   "source": [
    "# Show the total sales for the products sold for each retailer, region, state, and city.\n",
    "# Rename the \"total_sales\" column to \"Total Sales\"\n",
    "retailer_most_sales_groupby = converted_combined_sales_data.groupby(['retailer', 'region', 'state', 'city'])[[\"total_sales\"]].sum()\n",
    "retailer_most_sales_groupby = retailer_most_sales_groupby.rename(columns={\"total_sales\": \"Total_Sales\"})\n",
    "# Show the top 5 results.\n",
    "retailer_most_sales_groupby.sort_values(by=[\"Total_Sales\"], ascending=False).head(5)"
   ]
  },
  {
   "cell_type": "markdown",
   "metadata": {},
   "source": [
    "#### Using `pivot_table`"
   ]
  },
  {
   "cell_type": "code",
   "execution_count": null,
   "metadata": {},
   "outputs": [],
   "source": [
    "# Show the total sales for the products sold for each retailer, region, state, and city.\n",
    "\n",
    "# Optional: Rename the \"total_sales\" column to \"Total Sales\"\n",
    "retailer_most_sales_pivot = pd.pivot_table(converted_combined_sales_data, \n",
    "                                   index=['retailer', 'region','state','city'],\n",
    "                                   values='total_sales',\n",
    "                                   aggfunc='sum',\n",
    "                                   sort=False).rename(columns={\"total_sales\": \"Total_Sales\"})\n",
    "\n",
    "\n",
    "\n",
    "# Show the top 5 results.\n",
    "retailer_most_sales_pivot.sort_values(by=[\"Total_Sales\"], ascending=False).head(5)"
   ]
  },
  {
   "cell_type": "markdown",
   "metadata": {},
   "source": [
    "### 5. Determine which Retailer Sold the Most Women's Athletic Footwear"
   ]
  },
  {
   "cell_type": "code",
   "execution_count": null,
   "metadata": {},
   "outputs": [],
   "source": [
    "# Filter the sales data to get the women's athletic footwear sales data.\n",
    "womens_athletic_footwear_sold = converted_combined_sales_data[converted_combined_sales_data[\"product\"]\n",
    "                                                                     .str.contains(\"Women's Athletic Footwear\")]\n",
    "womens_athletic_footwear_sold.head(15)"
   ]
  },
  {
   "cell_type": "markdown",
   "metadata": {},
   "source": [
    "#### Using `groupby`"
   ]
  },
  {
   "cell_type": "code",
   "execution_count": null,
   "metadata": {},
   "outputs": [],
   "source": [
    "# Show the total number of women's athletic footwear sold for each retailer, region, state, and city.\n",
    "# Rename the \"units_sold\" column to \"Womens_Footwear_Units_Sold\"\n",
    "womens_athletic_footwear_sold_groupby = womens_athletic_footwear_sold.groupby(['retailer', 'region', 'state', 'city'])[[\"units_sold\"]].sum()\n",
    "womens_athletic_footwear_sold_groupby = womens_athletic_footwear_sold_groupby.rename(columns={\"units_sold\": \"Womens_Footwear_Units_Sold\"})\n",
    "womens_athletic_footwear_sold_groupby.sort_values(by=[\"Womens_Footwear_Units_Sold\"], ascending=False).head(5)\n"
   ]
  },
  {
   "cell_type": "markdown",
   "metadata": {},
   "source": [
    "#### Using `pivot_table`"
   ]
  },
  {
   "cell_type": "code",
   "execution_count": null,
   "metadata": {},
   "outputs": [],
   "source": [
    "# Show the total number of women's athletic footwear sold for each retailer, region, state, and city.\n",
    "womens_athletic_footwear_sold_pivot = pd.pivot_table(womens_athletic_footwear_sold, \n",
    "                                   index=['retailer', 'region','state','city'],\n",
    "                                   values='units_sold',\n",
    "                                   aggfunc='sum',\n",
    "                                   sort=False).rename(columns={\"units_sold\": \"Womens_Footwear_Units_Sold\"})\n",
    "\n",
    "# Rename the \"units_sold\" column to \"Womens_Footwear_Units_Sold\"\n",
    "\n",
    "# Show the top 5 results.\n",
    "womens_athletic_footwear_sold_pivot.sort_values(by=[\"Womens_Footwear_Units_Sold\"], ascending=False).head(5)"
   ]
  },
  {
   "cell_type": "markdown",
   "metadata": {},
   "source": [
    "### 5. Determine the Day with the Most Women's Athletic Footwear Sales"
   ]
  },
  {
   "cell_type": "code",
   "execution_count": null,
   "metadata": {},
   "outputs": [],
   "source": [
    "# Create a pivot table with the 'invoice_date' column is the index, and the \"total_sales\" as the values.\n",
    "womens_athletic_footwear_sold_pivot = pd.pivot_table(womens_athletic_footwear_sold, \n",
    "                                   index=['invoice_date'],\n",
    "                                   values='total_sales',\n",
    "                                   aggfunc='sum',\n",
    "                                   sort=False).rename(columns={\"total_sales\": \"Total Sales\"})\n",
    "\n",
    "# Optional: Rename the \"total_sales\" column to \"Total Sales\"\n",
    "\n",
    "\n",
    "# Show the table.\n",
    "womens_athletic_footwear_sold_pivot"
   ]
  },
  {
   "cell_type": "code",
   "execution_count": null,
   "metadata": {},
   "outputs": [],
   "source": [
    "# Resample the pivot table into daily bins, and get the total sales for each day.\n",
    "daily_womens = womens_athletic_footwear_sold_pivot.resample('D').sum()\n",
    "\n",
    "# Sort the resampled pivot table in ascending order on \"Total Sales\".\n",
    "daily_womens.sort_values(by=[\"Total Sales\"], ascending=False).head(10)"
   ]
  },
  {
   "cell_type": "markdown",
   "metadata": {},
   "source": [
    "### 6.  Determine the Week with the Most Women's Athletic Footwear Sales"
   ]
  },
  {
   "cell_type": "code",
   "execution_count": null,
   "metadata": {},
   "outputs": [],
   "source": [
    "# Resample the pivot table into weekly bins, and get the total sales for each week.\n",
    "weekly_womens = womens_athletic_footwear_sold_pivot.resample('W').sum()\n",
    "\n",
    "# Sort the resampled pivot table in ascending order on \"Total Sales\".\n",
    "weekly_womens.sort_values(by=[\"Total Sales\"], ascending=False).head(10)"
   ]
  },
  {
   "cell_type": "code",
   "execution_count": null,
   "metadata": {},
   "outputs": [],
   "source": []
  }
 ],
 "metadata": {
  "kernelspec": {
   "display_name": "Python 3 (ipykernel)",
   "language": "python",
   "name": "python3"
  },
  "language_info": {
   "codemirror_mode": {
    "name": "ipython",
    "version": 3
   },
   "file_extension": ".py",
   "mimetype": "text/x-python",
   "name": "python",
   "nbconvert_exporter": "python",
   "pygments_lexer": "ipython3",
   "version": "3.11.7"
  }
 },
 "nbformat": 4,
 "nbformat_minor": 4
}
